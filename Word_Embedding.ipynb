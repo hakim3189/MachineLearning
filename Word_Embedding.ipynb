{
  "nbformat": 4,
  "nbformat_minor": 0,
  "metadata": {
    "colab": {
      "provenance": [],
      "gpuType": "T4",
      "authorship_tag": "ABX9TyMT/w/+Fu32mzp8lTzvyLWC",
      "include_colab_link": true
    },
    "kernelspec": {
      "name": "python3",
      "display_name": "Python 3"
    },
    "language_info": {
      "name": "python"
    },
    "accelerator": "GPU"
  },
  "cells": [
    {
      "cell_type": "markdown",
      "metadata": {
        "id": "view-in-github",
        "colab_type": "text"
      },
      "source": [
        "<a href=\"https://colab.research.google.com/github/hakim3189/MachineLearning/blob/main/Word_Embedding.ipynb\" target=\"_parent\"><img src=\"https://colab.research.google.com/assets/colab-badge.svg\" alt=\"Open In Colab\"/></a>"
      ]
    },
    {
      "cell_type": "code",
      "source": [
        "from gensim.models import Word2Vec\n",
        "from nltk.tokenize import word_tokenize\n",
        "import nltk"
      ],
      "metadata": {
        "id": "6i3vGMxNkg36"
      },
      "execution_count": 1,
      "outputs": []
    },
    {
      "cell_type": "code",
      "source": [
        "nltk.download('punkt')\n",
        "nltk.download('punkt_tab')"
      ],
      "metadata": {
        "colab": {
          "base_uri": "https://localhost:8080/"
        },
        "id": "R8CyfB5nkp8I",
        "outputId": "7dc90363-4cf7-410f-edfc-037e3f32c272"
      },
      "execution_count": 5,
      "outputs": [
        {
          "output_type": "stream",
          "name": "stderr",
          "text": [
            "[nltk_data] Downloading package punkt to /root/nltk_data...\n",
            "[nltk_data]   Package punkt is already up-to-date!\n",
            "[nltk_data] Downloading package punkt_tab to /root/nltk_data...\n",
            "[nltk_data]   Unzipping tokenizers/punkt_tab.zip.\n"
          ]
        },
        {
          "output_type": "execute_result",
          "data": {
            "text/plain": [
              "True"
            ]
          },
          "metadata": {},
          "execution_count": 5
        }
      ]
    },
    {
      "cell_type": "code",
      "source": [
        "text_data = [\n",
        "    'Saya suka makan bakso',\n",
        "    'Bakso enak dan lezat',\n",
        "    'Makanan favorit saya adalah nasi goreng',\n",
        "    'Nasi goreng pedas adalah makanan favorit saya',\n",
        "    'Saya suka makanan manis seperti es krim',\n",
        "]"
      ],
      "metadata": {
        "id": "N5gZtyBlkszE"
      },
      "execution_count": 6,
      "outputs": []
    },
    {
      "cell_type": "code",
      "source": [
        "tokenized_data = [word_tokenize(sentence.lower()) for sentence in text_data]\n"
      ],
      "metadata": {
        "id": "cAux9BpMkvEn"
      },
      "execution_count": 7,
      "outputs": []
    },
    {
      "cell_type": "code",
      "source": [
        "model = Word2Vec(sentences=tokenized_data, vector_size=100, window=5, min_count=1, workers=4)"
      ],
      "metadata": {
        "id": "7AyJN3mblKYw"
      },
      "execution_count": 9,
      "outputs": []
    },
    {
      "cell_type": "code",
      "source": [
        "word_vectors = model.wv\n",
        "\n",
        "similar_words = word_vectors.most_similar('bakso', topn=3)\n",
        "print(\"Kata-kata yang mirip dengan 'bakso':\", similar_words)\n",
        "\n",
        "vector = word_vectors['bakso']\n",
        "print(\"Vektor untuk 'bakso':\", vector)"
      ],
      "metadata": {
        "colab": {
          "base_uri": "https://localhost:8080/"
        },
        "id": "QDVcD8Elk_fl",
        "outputId": "371e717b-2049-41dc-824c-f470e998a73c"
      },
      "execution_count": 10,
      "outputs": [
        {
          "output_type": "stream",
          "name": "stdout",
          "text": [
            "Kata-kata yang mirip dengan 'bakso': [('makan', 0.16378410160541534), ('suka', 0.14593631029129028), ('seperti', 0.05048186331987381)]\n",
            "Vektor untuk 'bakso': [ 8.1313476e-03 -4.4564046e-03 -1.0691127e-03  1.0061077e-03\n",
            " -1.9159094e-04  1.1476945e-03  6.1130808e-03 -2.1028229e-05\n",
            " -3.2464080e-03 -1.5108526e-03  5.8968030e-03  1.5146992e-03\n",
            " -7.2518713e-04  9.3327314e-03 -4.9203662e-03 -8.3772995e-04\n",
            "  9.1761574e-03  6.7498391e-03  1.5029053e-03 -8.8831419e-03\n",
            "  1.1493311e-03 -2.2879995e-03  9.3689859e-03  1.2105494e-03\n",
            "  1.4908358e-03  2.4072516e-03 -1.8369687e-03 -5.0002905e-03\n",
            "  2.3255954e-04 -2.0135543e-03  6.6016498e-03  8.9406595e-03\n",
            " -6.7400956e-04  2.9765165e-03 -6.1070141e-03  1.6989254e-03\n",
            " -6.9271126e-03 -8.6931381e-03 -5.9000733e-03 -8.9567434e-03\n",
            "  7.2773541e-03 -5.7724416e-03  8.2768193e-03 -7.2431173e-03\n",
            "  3.4214170e-03  9.6742855e-03 -7.7857943e-03 -9.9450899e-03\n",
            " -4.3285536e-03 -2.6834065e-03 -2.7130111e-04 -8.8314656e-03\n",
            " -8.6182477e-03  2.8004113e-03 -8.2065463e-03 -9.0690637e-03\n",
            " -2.3399950e-03 -8.6319391e-03 -7.0569199e-03 -8.4003983e-03\n",
            " -3.0083838e-04 -4.5636455e-03  6.6276137e-03  1.5280030e-03\n",
            " -3.3407491e-03  6.1088665e-03 -6.0124346e-03 -4.6557221e-03\n",
            " -7.2069801e-03 -4.3367147e-03 -1.8095284e-03  6.4892126e-03\n",
            " -2.7712206e-03  4.9192626e-03  6.9053061e-03 -7.4628387e-03\n",
            "  4.5646611e-03  6.1275703e-03 -2.9541072e-03  6.6246041e-03\n",
            "  6.1260783e-03 -6.4440137e-03 -6.7637535e-03  2.5394869e-03\n",
            " -1.6235093e-03 -6.0647293e-03  9.5000509e-03 -5.1294398e-03\n",
            " -6.5541780e-03 -1.2057279e-04 -2.7006133e-03  4.4510351e-04\n",
            " -3.5372898e-03 -4.1946160e-04 -7.0918835e-04  8.2237995e-04\n",
            "  8.1956582e-03 -5.7370123e-03 -1.6601442e-03  5.5725672e-03]\n"
          ]
        }
      ]
    }
  ]
}