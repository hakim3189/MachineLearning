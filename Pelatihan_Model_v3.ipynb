{
  "nbformat": 4,
  "nbformat_minor": 0,
  "metadata": {
    "colab": {
      "provenance": [],
      "gpuType": "T4",
      "toc_visible": true,
      "authorship_tag": "ABX9TyNHZE4Ei3Zd+Cgl9/cLB69q",
      "include_colab_link": true
    },
    "kernelspec": {
      "name": "python3",
      "display_name": "Python 3"
    },
    "language_info": {
      "name": "python"
    },
    "accelerator": "GPU"
  },
  "cells": [
    {
      "cell_type": "markdown",
      "metadata": {
        "id": "view-in-github",
        "colab_type": "text"
      },
      "source": [
        "<a href=\"https://colab.research.google.com/github/hakim3189/MachineLearning/blob/main/Pelatihan_Model_v3.ipynb\" target=\"_parent\"><img src=\"https://colab.research.google.com/assets/colab-badge.svg\" alt=\"Open In Colab\"/></a>"
      ]
    },
    {
      "cell_type": "code",
      "source": [
        "import pandas as pd\n",
        "import numpy as np\n",
        "import tensorflow as tf\n",
        "import matplotlib.pyplot as plt\n",
        "import re\n",
        "from google.colab import drive\n",
        "!pip install gensim\n",
        "import gensim\n",
        "from sklearn.feature_extraction.text import TfidfVectorizer\n",
        "from sklearn.model_selection import train_test_split\n",
        "from sklearn.linear_model import LogisticRegression\n",
        "from sklearn.neighbors import KNeighborsClassifier\n",
        "from sklearn.tree import DecisionTreeClassifier\n",
        "from sklearn.svm import LinearSVC,SVC\n",
        "from sklearn.neural_network import MLPClassifier\n",
        "from sklearn.ensemble import RandomForestClassifier, GradientBoostingClassifier\n",
        "!pip install gensim\n",
        "import gensim\n",
        "from sklearn.feature_extraction.text import TfidfVectorizer\n",
        "from sklearn.model_selection import train_test_split\n",
        "from sklearn.ensemble import RandomForestClassifier\n",
        "from sklearn.naive_bayes import BernoulliNB # Import the BernoulliNB class\n",
        "from sklearn.metrics import accuracy_score"
      ],
      "metadata": {
        "id": "WCATvecbWZGA",
        "colab": {
          "base_uri": "https://localhost:8080/"
        },
        "outputId": "e5115624-0984-411f-e1ad-7f9be6ca1b2c"
      },
      "execution_count": 1,
      "outputs": [
        {
          "output_type": "stream",
          "name": "stdout",
          "text": [
            "Requirement already satisfied: gensim in /usr/local/lib/python3.11/dist-packages (4.3.3)\n",
            "Requirement already satisfied: numpy<2.0,>=1.18.5 in /usr/local/lib/python3.11/dist-packages (from gensim) (1.26.4)\n",
            "Requirement already satisfied: scipy<1.14.0,>=1.7.0 in /usr/local/lib/python3.11/dist-packages (from gensim) (1.13.1)\n",
            "Requirement already satisfied: smart-open>=1.8.1 in /usr/local/lib/python3.11/dist-packages (from gensim) (7.1.0)\n",
            "Requirement already satisfied: wrapt in /usr/local/lib/python3.11/dist-packages (from smart-open>=1.8.1->gensim) (1.17.2)\n",
            "Requirement already satisfied: gensim in /usr/local/lib/python3.11/dist-packages (4.3.3)\n",
            "Requirement already satisfied: numpy<2.0,>=1.18.5 in /usr/local/lib/python3.11/dist-packages (from gensim) (1.26.4)\n",
            "Requirement already satisfied: scipy<1.14.0,>=1.7.0 in /usr/local/lib/python3.11/dist-packages (from gensim) (1.13.1)\n",
            "Requirement already satisfied: smart-open>=1.8.1 in /usr/local/lib/python3.11/dist-packages (from gensim) (7.1.0)\n",
            "Requirement already satisfied: wrapt in /usr/local/lib/python3.11/dist-packages (from smart-open>=1.8.1->gensim) (1.17.2)\n"
          ]
        }
      ]
    },
    {
      "cell_type": "code",
      "source": [
        "drive.mount('/content/drive')"
      ],
      "metadata": {
        "colab": {
          "base_uri": "https://localhost:8080/"
        },
        "id": "5ju3e_JGWdRX",
        "outputId": "65ce9f07-27d7-464f-cb5f-695ed382be76"
      },
      "execution_count": 2,
      "outputs": [
        {
          "output_type": "stream",
          "name": "stdout",
          "text": [
            "Drive already mounted at /content/drive; to attempt to forcibly remount, call drive.mount(\"/content/drive\", force_remount=True).\n"
          ]
        }
      ]
    },
    {
      "cell_type": "code",
      "source": [
        "main_df = pd.read_csv('/content/drive/MyDrive/ulasan_aplikasi_mytelkomsel.csv')"
      ],
      "metadata": {
        "id": "DZXmQ7I5Wdur"
      },
      "execution_count": 3,
      "outputs": []
    },
    {
      "cell_type": "code",
      "source": [
        "main_df.head()"
      ],
      "metadata": {
        "colab": {
          "base_uri": "https://localhost:8080/",
          "height": 206
        },
        "id": "v4PpFyRzW2t0",
        "outputId": "a4e2a560-d767-479a-a3aa-bf47fa4b9c5b"
      },
      "execution_count": 4,
      "outputs": [
        {
          "output_type": "execute_result",
          "data": {
            "text/plain": [
              "                                              Review\n",
              "0  Makin hari makin BURUK! segala upaya biar lanc...\n",
              "1  Perbaiki dulu jaringannya paketnya sudah mahal...\n",
              "2  Aku gak ngerti ya! Lama2 aplikasinya makin nge...\n",
              "3  Sebenarnya sudah mulai bosan, sebab masalahnya...\n",
              "4  makin kesini aplikasi makin berat, buka aplika..."
            ],
            "text/html": [
              "\n",
              "  <div id=\"df-a16260ac-9f30-43b0-970a-75b92f3f2c0f\" class=\"colab-df-container\">\n",
              "    <div>\n",
              "<style scoped>\n",
              "    .dataframe tbody tr th:only-of-type {\n",
              "        vertical-align: middle;\n",
              "    }\n",
              "\n",
              "    .dataframe tbody tr th {\n",
              "        vertical-align: top;\n",
              "    }\n",
              "\n",
              "    .dataframe thead th {\n",
              "        text-align: right;\n",
              "    }\n",
              "</style>\n",
              "<table border=\"1\" class=\"dataframe\">\n",
              "  <thead>\n",
              "    <tr style=\"text-align: right;\">\n",
              "      <th></th>\n",
              "      <th>Review</th>\n",
              "    </tr>\n",
              "  </thead>\n",
              "  <tbody>\n",
              "    <tr>\n",
              "      <th>0</th>\n",
              "      <td>Makin hari makin BURUK! segala upaya biar lanc...</td>\n",
              "    </tr>\n",
              "    <tr>\n",
              "      <th>1</th>\n",
              "      <td>Perbaiki dulu jaringannya paketnya sudah mahal...</td>\n",
              "    </tr>\n",
              "    <tr>\n",
              "      <th>2</th>\n",
              "      <td>Aku gak ngerti ya! Lama2 aplikasinya makin nge...</td>\n",
              "    </tr>\n",
              "    <tr>\n",
              "      <th>3</th>\n",
              "      <td>Sebenarnya sudah mulai bosan, sebab masalahnya...</td>\n",
              "    </tr>\n",
              "    <tr>\n",
              "      <th>4</th>\n",
              "      <td>makin kesini aplikasi makin berat, buka aplika...</td>\n",
              "    </tr>\n",
              "  </tbody>\n",
              "</table>\n",
              "</div>\n",
              "    <div class=\"colab-df-buttons\">\n",
              "\n",
              "  <div class=\"colab-df-container\">\n",
              "    <button class=\"colab-df-convert\" onclick=\"convertToInteractive('df-a16260ac-9f30-43b0-970a-75b92f3f2c0f')\"\n",
              "            title=\"Convert this dataframe to an interactive table.\"\n",
              "            style=\"display:none;\">\n",
              "\n",
              "  <svg xmlns=\"http://www.w3.org/2000/svg\" height=\"24px\" viewBox=\"0 -960 960 960\">\n",
              "    <path d=\"M120-120v-720h720v720H120Zm60-500h600v-160H180v160Zm220 220h160v-160H400v160Zm0 220h160v-160H400v160ZM180-400h160v-160H180v160Zm440 0h160v-160H620v160ZM180-180h160v-160H180v160Zm440 0h160v-160H620v160Z\"/>\n",
              "  </svg>\n",
              "    </button>\n",
              "\n",
              "  <style>\n",
              "    .colab-df-container {\n",
              "      display:flex;\n",
              "      gap: 12px;\n",
              "    }\n",
              "\n",
              "    .colab-df-convert {\n",
              "      background-color: #E8F0FE;\n",
              "      border: none;\n",
              "      border-radius: 50%;\n",
              "      cursor: pointer;\n",
              "      display: none;\n",
              "      fill: #1967D2;\n",
              "      height: 32px;\n",
              "      padding: 0 0 0 0;\n",
              "      width: 32px;\n",
              "    }\n",
              "\n",
              "    .colab-df-convert:hover {\n",
              "      background-color: #E2EBFA;\n",
              "      box-shadow: 0px 1px 2px rgba(60, 64, 67, 0.3), 0px 1px 3px 1px rgba(60, 64, 67, 0.15);\n",
              "      fill: #174EA6;\n",
              "    }\n",
              "\n",
              "    .colab-df-buttons div {\n",
              "      margin-bottom: 4px;\n",
              "    }\n",
              "\n",
              "    [theme=dark] .colab-df-convert {\n",
              "      background-color: #3B4455;\n",
              "      fill: #D2E3FC;\n",
              "    }\n",
              "\n",
              "    [theme=dark] .colab-df-convert:hover {\n",
              "      background-color: #434B5C;\n",
              "      box-shadow: 0px 1px 3px 1px rgba(0, 0, 0, 0.15);\n",
              "      filter: drop-shadow(0px 1px 2px rgba(0, 0, 0, 0.3));\n",
              "      fill: #FFFFFF;\n",
              "    }\n",
              "  </style>\n",
              "\n",
              "    <script>\n",
              "      const buttonEl =\n",
              "        document.querySelector('#df-a16260ac-9f30-43b0-970a-75b92f3f2c0f button.colab-df-convert');\n",
              "      buttonEl.style.display =\n",
              "        google.colab.kernel.accessAllowed ? 'block' : 'none';\n",
              "\n",
              "      async function convertToInteractive(key) {\n",
              "        const element = document.querySelector('#df-a16260ac-9f30-43b0-970a-75b92f3f2c0f');\n",
              "        const dataTable =\n",
              "          await google.colab.kernel.invokeFunction('convertToInteractive',\n",
              "                                                    [key], {});\n",
              "        if (!dataTable) return;\n",
              "\n",
              "        const docLinkHtml = 'Like what you see? Visit the ' +\n",
              "          '<a target=\"_blank\" href=https://colab.research.google.com/notebooks/data_table.ipynb>data table notebook</a>'\n",
              "          + ' to learn more about interactive tables.';\n",
              "        element.innerHTML = '';\n",
              "        dataTable['output_type'] = 'display_data';\n",
              "        await google.colab.output.renderOutput(dataTable, element);\n",
              "        const docLink = document.createElement('div');\n",
              "        docLink.innerHTML = docLinkHtml;\n",
              "        element.appendChild(docLink);\n",
              "      }\n",
              "    </script>\n",
              "  </div>\n",
              "\n",
              "\n",
              "<div id=\"df-830941da-e8a3-40fd-93e4-ae4ca337c5bf\">\n",
              "  <button class=\"colab-df-quickchart\" onclick=\"quickchart('df-830941da-e8a3-40fd-93e4-ae4ca337c5bf')\"\n",
              "            title=\"Suggest charts\"\n",
              "            style=\"display:none;\">\n",
              "\n",
              "<svg xmlns=\"http://www.w3.org/2000/svg\" height=\"24px\"viewBox=\"0 0 24 24\"\n",
              "     width=\"24px\">\n",
              "    <g>\n",
              "        <path d=\"M19 3H5c-1.1 0-2 .9-2 2v14c0 1.1.9 2 2 2h14c1.1 0 2-.9 2-2V5c0-1.1-.9-2-2-2zM9 17H7v-7h2v7zm4 0h-2V7h2v10zm4 0h-2v-4h2v4z\"/>\n",
              "    </g>\n",
              "</svg>\n",
              "  </button>\n",
              "\n",
              "<style>\n",
              "  .colab-df-quickchart {\n",
              "      --bg-color: #E8F0FE;\n",
              "      --fill-color: #1967D2;\n",
              "      --hover-bg-color: #E2EBFA;\n",
              "      --hover-fill-color: #174EA6;\n",
              "      --disabled-fill-color: #AAA;\n",
              "      --disabled-bg-color: #DDD;\n",
              "  }\n",
              "\n",
              "  [theme=dark] .colab-df-quickchart {\n",
              "      --bg-color: #3B4455;\n",
              "      --fill-color: #D2E3FC;\n",
              "      --hover-bg-color: #434B5C;\n",
              "      --hover-fill-color: #FFFFFF;\n",
              "      --disabled-bg-color: #3B4455;\n",
              "      --disabled-fill-color: #666;\n",
              "  }\n",
              "\n",
              "  .colab-df-quickchart {\n",
              "    background-color: var(--bg-color);\n",
              "    border: none;\n",
              "    border-radius: 50%;\n",
              "    cursor: pointer;\n",
              "    display: none;\n",
              "    fill: var(--fill-color);\n",
              "    height: 32px;\n",
              "    padding: 0;\n",
              "    width: 32px;\n",
              "  }\n",
              "\n",
              "  .colab-df-quickchart:hover {\n",
              "    background-color: var(--hover-bg-color);\n",
              "    box-shadow: 0 1px 2px rgba(60, 64, 67, 0.3), 0 1px 3px 1px rgba(60, 64, 67, 0.15);\n",
              "    fill: var(--button-hover-fill-color);\n",
              "  }\n",
              "\n",
              "  .colab-df-quickchart-complete:disabled,\n",
              "  .colab-df-quickchart-complete:disabled:hover {\n",
              "    background-color: var(--disabled-bg-color);\n",
              "    fill: var(--disabled-fill-color);\n",
              "    box-shadow: none;\n",
              "  }\n",
              "\n",
              "  .colab-df-spinner {\n",
              "    border: 2px solid var(--fill-color);\n",
              "    border-color: transparent;\n",
              "    border-bottom-color: var(--fill-color);\n",
              "    animation:\n",
              "      spin 1s steps(1) infinite;\n",
              "  }\n",
              "\n",
              "  @keyframes spin {\n",
              "    0% {\n",
              "      border-color: transparent;\n",
              "      border-bottom-color: var(--fill-color);\n",
              "      border-left-color: var(--fill-color);\n",
              "    }\n",
              "    20% {\n",
              "      border-color: transparent;\n",
              "      border-left-color: var(--fill-color);\n",
              "      border-top-color: var(--fill-color);\n",
              "    }\n",
              "    30% {\n",
              "      border-color: transparent;\n",
              "      border-left-color: var(--fill-color);\n",
              "      border-top-color: var(--fill-color);\n",
              "      border-right-color: var(--fill-color);\n",
              "    }\n",
              "    40% {\n",
              "      border-color: transparent;\n",
              "      border-right-color: var(--fill-color);\n",
              "      border-top-color: var(--fill-color);\n",
              "    }\n",
              "    60% {\n",
              "      border-color: transparent;\n",
              "      border-right-color: var(--fill-color);\n",
              "    }\n",
              "    80% {\n",
              "      border-color: transparent;\n",
              "      border-right-color: var(--fill-color);\n",
              "      border-bottom-color: var(--fill-color);\n",
              "    }\n",
              "    90% {\n",
              "      border-color: transparent;\n",
              "      border-bottom-color: var(--fill-color);\n",
              "    }\n",
              "  }\n",
              "</style>\n",
              "\n",
              "  <script>\n",
              "    async function quickchart(key) {\n",
              "      const quickchartButtonEl =\n",
              "        document.querySelector('#' + key + ' button');\n",
              "      quickchartButtonEl.disabled = true;  // To prevent multiple clicks.\n",
              "      quickchartButtonEl.classList.add('colab-df-spinner');\n",
              "      try {\n",
              "        const charts = await google.colab.kernel.invokeFunction(\n",
              "            'suggestCharts', [key], {});\n",
              "      } catch (error) {\n",
              "        console.error('Error during call to suggestCharts:', error);\n",
              "      }\n",
              "      quickchartButtonEl.classList.remove('colab-df-spinner');\n",
              "      quickchartButtonEl.classList.add('colab-df-quickchart-complete');\n",
              "    }\n",
              "    (() => {\n",
              "      let quickchartButtonEl =\n",
              "        document.querySelector('#df-830941da-e8a3-40fd-93e4-ae4ca337c5bf button');\n",
              "      quickchartButtonEl.style.display =\n",
              "        google.colab.kernel.accessAllowed ? 'block' : 'none';\n",
              "    })();\n",
              "  </script>\n",
              "</div>\n",
              "\n",
              "    </div>\n",
              "  </div>\n"
            ],
            "application/vnd.google.colaboratory.intrinsic+json": {
              "type": "dataframe",
              "variable_name": "main_df"
            }
          },
          "metadata": {},
          "execution_count": 4
        }
      ]
    },
    {
      "cell_type": "markdown",
      "source": [
        "Case Folding"
      ],
      "metadata": {
        "id": "ZN5turIaXARN"
      }
    },
    {
      "cell_type": "code",
      "source": [
        "main_df.loc[:, 'Review'] = main_df.loc[:, 'Review'].str.lower()\n",
        "main_df['Review']"
      ],
      "metadata": {
        "colab": {
          "base_uri": "https://localhost:8080/",
          "height": 458
        },
        "id": "Zp0TMppWXA6o",
        "outputId": "b536c395-78ac-4766-aa57-e5f36b4615eb"
      },
      "execution_count": 5,
      "outputs": [
        {
          "output_type": "execute_result",
          "data": {
            "text/plain": [
              "0         makin hari makin buruk! segala upaya biar lanc...\n",
              "1         perbaiki dulu jaringannya paketnya sudah mahal...\n",
              "2         aku gak ngerti ya! lama2 aplikasinya makin nge...\n",
              "3         sebenarnya sudah mulai bosan, sebab masalahnya...\n",
              "4         makin kesini aplikasi makin berat, buka aplika...\n",
              "                                ...                        \n",
              "121495    aplikasi trs yg di update bkn kualitas sinyal,...\n",
              "121496    aplikasi indihome di alihkan ke sini ,tapi log...\n",
              "121497    sekarang semakin gk bermutu nih aplikasi, pake...\n",
              "121498    soal sinyal memang lebih dari yg lain tapi har...\n",
              "121499    saya sudah 1 tahun pake aplikasi ini sekarang ...\n",
              "Name: Review, Length: 121500, dtype: object"
            ],
            "text/html": [
              "<div>\n",
              "<style scoped>\n",
              "    .dataframe tbody tr th:only-of-type {\n",
              "        vertical-align: middle;\n",
              "    }\n",
              "\n",
              "    .dataframe tbody tr th {\n",
              "        vertical-align: top;\n",
              "    }\n",
              "\n",
              "    .dataframe thead th {\n",
              "        text-align: right;\n",
              "    }\n",
              "</style>\n",
              "<table border=\"1\" class=\"dataframe\">\n",
              "  <thead>\n",
              "    <tr style=\"text-align: right;\">\n",
              "      <th></th>\n",
              "      <th>Review</th>\n",
              "    </tr>\n",
              "  </thead>\n",
              "  <tbody>\n",
              "    <tr>\n",
              "      <th>0</th>\n",
              "      <td>makin hari makin buruk! segala upaya biar lanc...</td>\n",
              "    </tr>\n",
              "    <tr>\n",
              "      <th>1</th>\n",
              "      <td>perbaiki dulu jaringannya paketnya sudah mahal...</td>\n",
              "    </tr>\n",
              "    <tr>\n",
              "      <th>2</th>\n",
              "      <td>aku gak ngerti ya! lama2 aplikasinya makin nge...</td>\n",
              "    </tr>\n",
              "    <tr>\n",
              "      <th>3</th>\n",
              "      <td>sebenarnya sudah mulai bosan, sebab masalahnya...</td>\n",
              "    </tr>\n",
              "    <tr>\n",
              "      <th>4</th>\n",
              "      <td>makin kesini aplikasi makin berat, buka aplika...</td>\n",
              "    </tr>\n",
              "    <tr>\n",
              "      <th>...</th>\n",
              "      <td>...</td>\n",
              "    </tr>\n",
              "    <tr>\n",
              "      <th>121495</th>\n",
              "      <td>aplikasi trs yg di update bkn kualitas sinyal,...</td>\n",
              "    </tr>\n",
              "    <tr>\n",
              "      <th>121496</th>\n",
              "      <td>aplikasi indihome di alihkan ke sini ,tapi log...</td>\n",
              "    </tr>\n",
              "    <tr>\n",
              "      <th>121497</th>\n",
              "      <td>sekarang semakin gk bermutu nih aplikasi, pake...</td>\n",
              "    </tr>\n",
              "    <tr>\n",
              "      <th>121498</th>\n",
              "      <td>soal sinyal memang lebih dari yg lain tapi har...</td>\n",
              "    </tr>\n",
              "    <tr>\n",
              "      <th>121499</th>\n",
              "      <td>saya sudah 1 tahun pake aplikasi ini sekarang ...</td>\n",
              "    </tr>\n",
              "  </tbody>\n",
              "</table>\n",
              "<p>121500 rows × 1 columns</p>\n",
              "</div><br><label><b>dtype:</b> object</label>"
            ]
          },
          "metadata": {},
          "execution_count": 5
        }
      ]
    },
    {
      "cell_type": "markdown",
      "source": [
        "Removal Special Characters"
      ],
      "metadata": {
        "id": "UP9n2c8wXFkV"
      }
    },
    {
      "cell_type": "code",
      "source": [
        "!pip install Sastrawi\n",
        "import re\n",
        "import string\n",
        "import nltk\n",
        "from nltk.tokenize import word_tokenize\n",
        "from nltk.corpus import stopwords\n",
        "from Sastrawi.Stemmer.StemmerFactory import StemmerFactory\n",
        "nltk.download('punkt_tab')\n",
        "\n",
        "def cleaningText(text):\n",
        "    text = re.sub(r'@[A-Za-z0-9]+', '', text) # menghapus mention\n",
        "    text = re.sub(r'#[A-Za-z0-9]+', '', text) # menghapus hashtag\n",
        "    text = re.sub(r'RT[\\s]', '', text) # menghapus RT\n",
        "    text = re.sub(r\"http\\S+\", '', text) # menghapus link\n",
        "    text = re.sub(r'[0-9]+', '', text) # menghapus angka\n",
        "    text = re.sub(r'[^\\w\\s]', '', text) # menghapus karakter selain huruf dan angka\n",
        "\n",
        "    text = text.replace('\\n', ' ') # mengganti baris baru dengan spasi\n",
        "    text = text.translate(str.maketrans('', '', string.punctuation)) # menghapus semua tanda baca\n",
        "    text = text.strip(' ') # menghapus karakter spasi dari kiri dan kanan teks\n",
        "    return text\n",
        "\n",
        "def casefoldingText(text): # Mengubah semua karakter dalam teks menjadi huruf kecil\n",
        "    text = text.lower()\n",
        "    return text\n",
        "\n",
        "def tokenizingText(text): # Memecah atau membagi string, teks menjadi daftar token\n",
        "    text = word_tokenize(text)\n",
        "    return text\n",
        "\n",
        "def filteringText(text): # Menghapus stopwords dalam teks\n",
        "    listStopwords = set(stopwords.words('indonesian'))\n",
        "    listStopwords1 = set(stopwords.words('english'))\n",
        "    listStopwords.update(listStopwords1)\n",
        "    listStopwords.update(['iya','yaa','gak','nya','na','sih','ku',\"di\",\"ga\",\"ya\",\"gaa\",\"loh\",\"kah\",\"woi\",\"woii\",\"woy\",\"gk\"])\n",
        "    filtered = []\n",
        "    for txt in text:\n",
        "        if txt not in listStopwords:\n",
        "            filtered.append(txt)\n",
        "    text = filtered\n",
        "    return text\n",
        "\n",
        "def stemmingText(text): # Mengurangi kata ke bentuk dasarnya yang menghilangkan imbuhan awalan dan akhiran atau ke akar kata\n",
        "    # Membuat objek stemmer\n",
        "    factory = StemmerFactory()\n",
        "    stemmer = factory.create_stemmer()\n",
        "\n",
        "    # Memecah teks menjadi daftar kata\n",
        "    words = text.split()\n",
        "\n",
        "    # Menerapkan stemming pada setiap kata dalam daftar\n",
        "    stemmed_words = [stemmer.stem(word) for word in words]\n",
        "\n",
        "    # Menggabungkan kata-kata yang telah distem\n",
        "    stemmed_text = ' '.join(stemmed_words)\n",
        "\n",
        "    return stemmed_text\n",
        "\n",
        "def toSentence(list_words): # Mengubah daftar kata menjadi kalimat\n",
        "    sentence = ' '.join(word for word in list_words)\n",
        "    return sentence"
      ],
      "metadata": {
        "colab": {
          "base_uri": "https://localhost:8080/"
        },
        "id": "6kbVkgl0XI-H",
        "outputId": "cce7cae9-500b-4ba2-d41b-c25d11637b8d"
      },
      "execution_count": 6,
      "outputs": [
        {
          "output_type": "stream",
          "name": "stdout",
          "text": [
            "Requirement already satisfied: Sastrawi in /usr/local/lib/python3.11/dist-packages (1.0.1)\n"
          ]
        },
        {
          "output_type": "stream",
          "name": "stderr",
          "text": [
            "[nltk_data] Downloading package punkt_tab to /root/nltk_data...\n",
            "[nltk_data]   Package punkt_tab is already up-to-date!\n"
          ]
        }
      ]
    },
    {
      "cell_type": "code",
      "source": [
        "slangwords = {\"@\": \"di\", \"abis\": \"habis\", \"wtb\": \"beli\", \"masi\": \"masih\", \"wts\": \"jual\", \"wtt\": \"tukar\", \"bgt\": \"banget\", \"maks\": \"maksimal\", \"yg\": \"yang\"}\n",
        "def fix_slangwords(text):\n",
        "    words = text.split()\n",
        "    fixed_words = []\n",
        "\n",
        "    for word in words:\n",
        "        if word.lower() in slangwords:\n",
        "            fixed_words.append(slangwords[word.lower()])\n",
        "        else:\n",
        "            fixed_words.append(word)\n",
        "\n",
        "    fixed_text = ' '.join(fixed_words)\n",
        "    return fixed_text"
      ],
      "metadata": {
        "id": "1iZhVypVbpoF"
      },
      "execution_count": 7,
      "outputs": []
    },
    {
      "cell_type": "code",
      "source": [
        "nltk.download('stopwords') # This line downloads the 'stopwords' resource\n",
        "nltk.download('punkt') # This line downloads the 'punkt' resource for tokenization\n",
        "nltk.download('punkt_tab')\n",
        "\n",
        "# Membersihkan teks dan menyimpannya di kolom 'text_clean'\n",
        "main_df['text_clean'] = main_df['Review'].apply(cleaningText)\n",
        "\n",
        "# Mengubah huruf dalam teks menjadi huruf kecil dan menyimpannya di 'text_casefoldingText'\n",
        "main_df['text_casefoldingText'] = main_df['text_clean'].apply(casefoldingText)\n",
        "\n",
        "# Mengganti kata-kata slang dengan kata-kata standar dan menyimpannya di 'text_slangwords'\n",
        "main_df['text_slangwords'] = main_df['text_casefoldingText'].apply(fix_slangwords)\n",
        "\n",
        "# Memecah teks menjadi token (kata-kata) dan menyimpannya di 'text_tokenizingText'\n",
        "main_df['text_tokenizingText'] = main_df['text_slangwords'].apply(tokenizingText)\n",
        "\n",
        "# Menghapus kata-kata stop (kata-kata umum) dan menyimpannya di 'text_stopword'\n",
        "main_df['text_stopword'] = main_df['text_tokenizingText'].apply(filteringText)\n",
        "\n",
        "# Menggabungkan token-token menjadi kalimat dan menyimpannya di 'text_akhir'\n",
        "main_df['text_akhir'] = main_df['text_stopword'].apply(toSentence)\n",
        "\n",
        "main_df['text_stopword']"
      ],
      "metadata": {
        "colab": {
          "base_uri": "https://localhost:8080/",
          "height": 562
        },
        "id": "Aazq4OuvalC6",
        "outputId": "682febf7-981d-4523-d2ad-35ce423c9587"
      },
      "execution_count": 8,
      "outputs": [
        {
          "output_type": "stream",
          "name": "stderr",
          "text": [
            "[nltk_data] Downloading package stopwords to /root/nltk_data...\n",
            "[nltk_data]   Package stopwords is already up-to-date!\n",
            "[nltk_data] Downloading package punkt to /root/nltk_data...\n",
            "[nltk_data]   Package punkt is already up-to-date!\n",
            "[nltk_data] Downloading package punkt_tab to /root/nltk_data...\n",
            "[nltk_data]   Package punkt_tab is already up-to-date!\n"
          ]
        },
        {
          "output_type": "execute_result",
          "data": {
            "text/plain": [
              "0         [buruk, upaya, biar, lancar, masuk, aplikasi, ...\n",
              "1         [perbaiki, jaringannya, paketnya, mahal, knapa...\n",
              "2         [ngerti, aplikasinya, ngeleg, susah, update, k...\n",
              "3         [bosan, seolaholah, diperbaiki, klaim, app, ke...\n",
              "4         [kesini, aplikasi, berat, buka, aplikasi, cek,...\n",
              "                                ...                        \n",
              "121495    [aplikasi, trs, update, bkn, kualitas, sinyal,...\n",
              "121496    [aplikasi, indihome, alihkan, login, email, ap...\n",
              "121497    [bermutu, nih, aplikasi, paket, mahal, isi, ri...\n",
              "121498      [sinyal, harga, paket, dr, smoga, bsa, berubah]\n",
              "121499    [pake, aplikasi, log, coba, log, pakai, nomor,...\n",
              "Name: text_stopword, Length: 121500, dtype: object"
            ],
            "text/html": [
              "<div>\n",
              "<style scoped>\n",
              "    .dataframe tbody tr th:only-of-type {\n",
              "        vertical-align: middle;\n",
              "    }\n",
              "\n",
              "    .dataframe tbody tr th {\n",
              "        vertical-align: top;\n",
              "    }\n",
              "\n",
              "    .dataframe thead th {\n",
              "        text-align: right;\n",
              "    }\n",
              "</style>\n",
              "<table border=\"1\" class=\"dataframe\">\n",
              "  <thead>\n",
              "    <tr style=\"text-align: right;\">\n",
              "      <th></th>\n",
              "      <th>text_stopword</th>\n",
              "    </tr>\n",
              "  </thead>\n",
              "  <tbody>\n",
              "    <tr>\n",
              "      <th>0</th>\n",
              "      <td>[buruk, upaya, biar, lancar, masuk, aplikasi, ...</td>\n",
              "    </tr>\n",
              "    <tr>\n",
              "      <th>1</th>\n",
              "      <td>[perbaiki, jaringannya, paketnya, mahal, knapa...</td>\n",
              "    </tr>\n",
              "    <tr>\n",
              "      <th>2</th>\n",
              "      <td>[ngerti, aplikasinya, ngeleg, susah, update, k...</td>\n",
              "    </tr>\n",
              "    <tr>\n",
              "      <th>3</th>\n",
              "      <td>[bosan, seolaholah, diperbaiki, klaim, app, ke...</td>\n",
              "    </tr>\n",
              "    <tr>\n",
              "      <th>4</th>\n",
              "      <td>[kesini, aplikasi, berat, buka, aplikasi, cek,...</td>\n",
              "    </tr>\n",
              "    <tr>\n",
              "      <th>...</th>\n",
              "      <td>...</td>\n",
              "    </tr>\n",
              "    <tr>\n",
              "      <th>121495</th>\n",
              "      <td>[aplikasi, trs, update, bkn, kualitas, sinyal,...</td>\n",
              "    </tr>\n",
              "    <tr>\n",
              "      <th>121496</th>\n",
              "      <td>[aplikasi, indihome, alihkan, login, email, ap...</td>\n",
              "    </tr>\n",
              "    <tr>\n",
              "      <th>121497</th>\n",
              "      <td>[bermutu, nih, aplikasi, paket, mahal, isi, ri...</td>\n",
              "    </tr>\n",
              "    <tr>\n",
              "      <th>121498</th>\n",
              "      <td>[sinyal, harga, paket, dr, smoga, bsa, berubah]</td>\n",
              "    </tr>\n",
              "    <tr>\n",
              "      <th>121499</th>\n",
              "      <td>[pake, aplikasi, log, coba, log, pakai, nomor,...</td>\n",
              "    </tr>\n",
              "  </tbody>\n",
              "</table>\n",
              "<p>121500 rows × 1 columns</p>\n",
              "</div><br><label><b>dtype:</b> object</label>"
            ]
          },
          "metadata": {},
          "execution_count": 8
        }
      ]
    },
    {
      "cell_type": "markdown",
      "source": [
        "Labeling"
      ],
      "metadata": {
        "id": "EQ_o-fqVcYZj"
      }
    },
    {
      "cell_type": "code",
      "source": [
        "import csv\n",
        "import requests\n",
        "from io import StringIO\n",
        "\n",
        "# Membaca data kamus kata-kata positif dari GitHub\n",
        "lexicon_positive = dict()\n",
        "\n",
        "response = requests.get('https://raw.githubusercontent.com/angelmetanosaa/dataset/main/lexicon_positive.csv')\n",
        "# Mengirim permintaan HTTP untuk mendapatkan file CSV dari GitHub\n",
        "\n",
        "if response.status_code == 200:\n",
        "    # Jika permintaan berhasil\n",
        "    reader = csv.reader(StringIO(response.text), delimiter=',')\n",
        "    # Membaca teks respons sebagai file CSV menggunakan pembaca CSV dengan pemisah koma\n",
        "\n",
        "    for row in reader:\n",
        "        # Mengulangi setiap baris dalam file CSV\n",
        "        lexicon_positive[row[0]] = int(row[1])\n",
        "        # Menambahkan kata-kata positif dan skornya ke dalam kamus lexicon_positive\n",
        "else:\n",
        "    print(\"Failed to fetch positive lexicon data\")\n",
        "\n",
        "# Membaca data kamus kata-kata negatif dari GitHub\n",
        "lexicon_negative = dict()\n",
        "\n",
        "response = requests.get('https://raw.githubusercontent.com/angelmetanosaa/dataset/main/lexicon_negative.csv')\n",
        "# Mengirim permintaan HTTP untuk mendapatkan file CSV dari GitHub\n",
        "\n",
        "if response.status_code == 200:\n",
        "    # Jika permintaan berhasil\n",
        "    reader = csv.reader(StringIO(response.text), delimiter=',')\n",
        "    # Membaca teks respons sebagai file CSV menggunakan pembaca CSV dengan pemisah koma\n",
        "\n",
        "    for row in reader:\n",
        "        # Mengulangi setiap baris dalam file CSV\n",
        "        lexicon_negative[row[0]] = int(row[1])\n",
        "        # Menambahkan kata-kata negatif dan skornya dalam kamus lexicon_negative\n",
        "else:\n",
        "    print(\"Failed to fetch negative lexicon data\")\n"
      ],
      "metadata": {
        "id": "TKAB01HXeVlG"
      },
      "execution_count": 19,
      "outputs": []
    },
    {
      "cell_type": "code",
      "source": [
        "def sentiment_analysis_lexicon_indonesia(text):\n",
        "    #for word in text:\n",
        "\n",
        "    score = 0\n",
        "    # Inisialisasi skor sentimen ke 0\n",
        "\n",
        "    for word in text:\n",
        "        # Mengulangi setiap kata dalam teks\n",
        "\n",
        "        if (word in lexicon_positive):\n",
        "          score = score + lexicon_positive[word]\n",
        "            # Jika kata ada dalam kamus positif, tambahkan skornya ke skor sentimen\n",
        "\n",
        "    for word in text:\n",
        "        # Mengulangi setiap kata dalam teks (sekali lagi)\n",
        "\n",
        "        if (word in lexicon_negative):\n",
        "          score = score + lexicon_negative[word]\n",
        "            # Jika kata ada dalam kamus negatif, kurangkan skornya dari skor sentimen\n",
        "\n",
        "    polarity=''\n",
        "    # Inisialisasi variabel polaritas\n",
        "\n",
        "    if (score > 10):\n",
        "      polarity = 'positive'\n",
        "        # Jika skor sentimen lebih besar atau sama dengan 10, maka polaritas adalah positif\n",
        "    elif (score < 5):\n",
        "      polarity = 'negative'\n",
        "        # Jika skor sentimen kurang dari 5, maka polaritas adalah negatif\n",
        "    else:\n",
        "      polarity = 'neutral'\n",
        "    # Ini adalah bagian yang bisa digunakan untuk menentukan polaritas netral jika diperlukan\n",
        "\n",
        "    return score, polarity\n",
        "    # Mengembalikan skor sentimen dan polaritas teks"
      ],
      "metadata": {
        "id": "UqZytfhue202"
      },
      "execution_count": 20,
      "outputs": []
    },
    {
      "cell_type": "code",
      "source": [
        "results = main_df['text_stopword'].apply(sentiment_analysis_lexicon_indonesia)\n",
        "results = list(zip(*results))\n",
        "main_df['polarity_score'] = results[0]\n",
        "main_df['polarity'] = results[1]\n",
        "print(main_df['polarity'].value_counts())\n",
        "main_df[['text_stopword','polarity','polarity_score']]"
      ],
      "metadata": {
        "colab": {
          "base_uri": "https://localhost:8080/",
          "height": 510
        },
        "id": "CTWlCLHLcdFR",
        "outputId": "a870ea21-e3b0-4d22-de5f-aa7db37906a5"
      },
      "execution_count": 21,
      "outputs": [
        {
          "output_type": "stream",
          "name": "stdout",
          "text": [
            "polarity\n",
            "negative    103092\n",
            "neutral      12265\n",
            "positive      6143\n",
            "Name: count, dtype: int64\n"
          ]
        },
        {
          "output_type": "execute_result",
          "data": {
            "text/plain": [
              "                                            text_stopword  polarity  \\\n",
              "0       [buruk, upaya, biar, lancar, masuk, aplikasi, ...  negative   \n",
              "1       [perbaiki, jaringannya, paketnya, mahal, knapa...  negative   \n",
              "2       [ngerti, aplikasinya, ngeleg, susah, update, k...  negative   \n",
              "3       [bosan, seolaholah, diperbaiki, klaim, app, ke...   neutral   \n",
              "4       [kesini, aplikasi, berat, buka, aplikasi, cek,...  negative   \n",
              "...                                                   ...       ...   \n",
              "121495  [aplikasi, trs, update, bkn, kualitas, sinyal,...  negative   \n",
              "121496  [aplikasi, indihome, alihkan, login, email, ap...  negative   \n",
              "121497  [bermutu, nih, aplikasi, paket, mahal, isi, ri...  negative   \n",
              "121498    [sinyal, harga, paket, dr, smoga, bsa, berubah]   neutral   \n",
              "121499  [pake, aplikasi, log, coba, log, pakai, nomor,...  negative   \n",
              "\n",
              "        polarity_score  \n",
              "0                  -30  \n",
              "1                  -13  \n",
              "2                    1  \n",
              "3                    7  \n",
              "4                  -25  \n",
              "...                ...  \n",
              "121495              -5  \n",
              "121496              -8  \n",
              "121497              -7  \n",
              "121498               7  \n",
              "121499              -3  \n",
              "\n",
              "[121500 rows x 3 columns]"
            ],
            "text/html": [
              "\n",
              "  <div id=\"df-3282537d-20c1-4212-ad99-ea541c617569\" class=\"colab-df-container\">\n",
              "    <div>\n",
              "<style scoped>\n",
              "    .dataframe tbody tr th:only-of-type {\n",
              "        vertical-align: middle;\n",
              "    }\n",
              "\n",
              "    .dataframe tbody tr th {\n",
              "        vertical-align: top;\n",
              "    }\n",
              "\n",
              "    .dataframe thead th {\n",
              "        text-align: right;\n",
              "    }\n",
              "</style>\n",
              "<table border=\"1\" class=\"dataframe\">\n",
              "  <thead>\n",
              "    <tr style=\"text-align: right;\">\n",
              "      <th></th>\n",
              "      <th>text_stopword</th>\n",
              "      <th>polarity</th>\n",
              "      <th>polarity_score</th>\n",
              "    </tr>\n",
              "  </thead>\n",
              "  <tbody>\n",
              "    <tr>\n",
              "      <th>0</th>\n",
              "      <td>[buruk, upaya, biar, lancar, masuk, aplikasi, ...</td>\n",
              "      <td>negative</td>\n",
              "      <td>-30</td>\n",
              "    </tr>\n",
              "    <tr>\n",
              "      <th>1</th>\n",
              "      <td>[perbaiki, jaringannya, paketnya, mahal, knapa...</td>\n",
              "      <td>negative</td>\n",
              "      <td>-13</td>\n",
              "    </tr>\n",
              "    <tr>\n",
              "      <th>2</th>\n",
              "      <td>[ngerti, aplikasinya, ngeleg, susah, update, k...</td>\n",
              "      <td>negative</td>\n",
              "      <td>1</td>\n",
              "    </tr>\n",
              "    <tr>\n",
              "      <th>3</th>\n",
              "      <td>[bosan, seolaholah, diperbaiki, klaim, app, ke...</td>\n",
              "      <td>neutral</td>\n",
              "      <td>7</td>\n",
              "    </tr>\n",
              "    <tr>\n",
              "      <th>4</th>\n",
              "      <td>[kesini, aplikasi, berat, buka, aplikasi, cek,...</td>\n",
              "      <td>negative</td>\n",
              "      <td>-25</td>\n",
              "    </tr>\n",
              "    <tr>\n",
              "      <th>...</th>\n",
              "      <td>...</td>\n",
              "      <td>...</td>\n",
              "      <td>...</td>\n",
              "    </tr>\n",
              "    <tr>\n",
              "      <th>121495</th>\n",
              "      <td>[aplikasi, trs, update, bkn, kualitas, sinyal,...</td>\n",
              "      <td>negative</td>\n",
              "      <td>-5</td>\n",
              "    </tr>\n",
              "    <tr>\n",
              "      <th>121496</th>\n",
              "      <td>[aplikasi, indihome, alihkan, login, email, ap...</td>\n",
              "      <td>negative</td>\n",
              "      <td>-8</td>\n",
              "    </tr>\n",
              "    <tr>\n",
              "      <th>121497</th>\n",
              "      <td>[bermutu, nih, aplikasi, paket, mahal, isi, ri...</td>\n",
              "      <td>negative</td>\n",
              "      <td>-7</td>\n",
              "    </tr>\n",
              "    <tr>\n",
              "      <th>121498</th>\n",
              "      <td>[sinyal, harga, paket, dr, smoga, bsa, berubah]</td>\n",
              "      <td>neutral</td>\n",
              "      <td>7</td>\n",
              "    </tr>\n",
              "    <tr>\n",
              "      <th>121499</th>\n",
              "      <td>[pake, aplikasi, log, coba, log, pakai, nomor,...</td>\n",
              "      <td>negative</td>\n",
              "      <td>-3</td>\n",
              "    </tr>\n",
              "  </tbody>\n",
              "</table>\n",
              "<p>121500 rows × 3 columns</p>\n",
              "</div>\n",
              "    <div class=\"colab-df-buttons\">\n",
              "\n",
              "  <div class=\"colab-df-container\">\n",
              "    <button class=\"colab-df-convert\" onclick=\"convertToInteractive('df-3282537d-20c1-4212-ad99-ea541c617569')\"\n",
              "            title=\"Convert this dataframe to an interactive table.\"\n",
              "            style=\"display:none;\">\n",
              "\n",
              "  <svg xmlns=\"http://www.w3.org/2000/svg\" height=\"24px\" viewBox=\"0 -960 960 960\">\n",
              "    <path d=\"M120-120v-720h720v720H120Zm60-500h600v-160H180v160Zm220 220h160v-160H400v160Zm0 220h160v-160H400v160ZM180-400h160v-160H180v160Zm440 0h160v-160H620v160ZM180-180h160v-160H180v160Zm440 0h160v-160H620v160Z\"/>\n",
              "  </svg>\n",
              "    </button>\n",
              "\n",
              "  <style>\n",
              "    .colab-df-container {\n",
              "      display:flex;\n",
              "      gap: 12px;\n",
              "    }\n",
              "\n",
              "    .colab-df-convert {\n",
              "      background-color: #E8F0FE;\n",
              "      border: none;\n",
              "      border-radius: 50%;\n",
              "      cursor: pointer;\n",
              "      display: none;\n",
              "      fill: #1967D2;\n",
              "      height: 32px;\n",
              "      padding: 0 0 0 0;\n",
              "      width: 32px;\n",
              "    }\n",
              "\n",
              "    .colab-df-convert:hover {\n",
              "      background-color: #E2EBFA;\n",
              "      box-shadow: 0px 1px 2px rgba(60, 64, 67, 0.3), 0px 1px 3px 1px rgba(60, 64, 67, 0.15);\n",
              "      fill: #174EA6;\n",
              "    }\n",
              "\n",
              "    .colab-df-buttons div {\n",
              "      margin-bottom: 4px;\n",
              "    }\n",
              "\n",
              "    [theme=dark] .colab-df-convert {\n",
              "      background-color: #3B4455;\n",
              "      fill: #D2E3FC;\n",
              "    }\n",
              "\n",
              "    [theme=dark] .colab-df-convert:hover {\n",
              "      background-color: #434B5C;\n",
              "      box-shadow: 0px 1px 3px 1px rgba(0, 0, 0, 0.15);\n",
              "      filter: drop-shadow(0px 1px 2px rgba(0, 0, 0, 0.3));\n",
              "      fill: #FFFFFF;\n",
              "    }\n",
              "  </style>\n",
              "\n",
              "    <script>\n",
              "      const buttonEl =\n",
              "        document.querySelector('#df-3282537d-20c1-4212-ad99-ea541c617569 button.colab-df-convert');\n",
              "      buttonEl.style.display =\n",
              "        google.colab.kernel.accessAllowed ? 'block' : 'none';\n",
              "\n",
              "      async function convertToInteractive(key) {\n",
              "        const element = document.querySelector('#df-3282537d-20c1-4212-ad99-ea541c617569');\n",
              "        const dataTable =\n",
              "          await google.colab.kernel.invokeFunction('convertToInteractive',\n",
              "                                                    [key], {});\n",
              "        if (!dataTable) return;\n",
              "\n",
              "        const docLinkHtml = 'Like what you see? Visit the ' +\n",
              "          '<a target=\"_blank\" href=https://colab.research.google.com/notebooks/data_table.ipynb>data table notebook</a>'\n",
              "          + ' to learn more about interactive tables.';\n",
              "        element.innerHTML = '';\n",
              "        dataTable['output_type'] = 'display_data';\n",
              "        await google.colab.output.renderOutput(dataTable, element);\n",
              "        const docLink = document.createElement('div');\n",
              "        docLink.innerHTML = docLinkHtml;\n",
              "        element.appendChild(docLink);\n",
              "      }\n",
              "    </script>\n",
              "  </div>\n",
              "\n",
              "\n",
              "<div id=\"df-1e783704-ac98-41fe-8cd7-23de7d554c9c\">\n",
              "  <button class=\"colab-df-quickchart\" onclick=\"quickchart('df-1e783704-ac98-41fe-8cd7-23de7d554c9c')\"\n",
              "            title=\"Suggest charts\"\n",
              "            style=\"display:none;\">\n",
              "\n",
              "<svg xmlns=\"http://www.w3.org/2000/svg\" height=\"24px\"viewBox=\"0 0 24 24\"\n",
              "     width=\"24px\">\n",
              "    <g>\n",
              "        <path d=\"M19 3H5c-1.1 0-2 .9-2 2v14c0 1.1.9 2 2 2h14c1.1 0 2-.9 2-2V5c0-1.1-.9-2-2-2zM9 17H7v-7h2v7zm4 0h-2V7h2v10zm4 0h-2v-4h2v4z\"/>\n",
              "    </g>\n",
              "</svg>\n",
              "  </button>\n",
              "\n",
              "<style>\n",
              "  .colab-df-quickchart {\n",
              "      --bg-color: #E8F0FE;\n",
              "      --fill-color: #1967D2;\n",
              "      --hover-bg-color: #E2EBFA;\n",
              "      --hover-fill-color: #174EA6;\n",
              "      --disabled-fill-color: #AAA;\n",
              "      --disabled-bg-color: #DDD;\n",
              "  }\n",
              "\n",
              "  [theme=dark] .colab-df-quickchart {\n",
              "      --bg-color: #3B4455;\n",
              "      --fill-color: #D2E3FC;\n",
              "      --hover-bg-color: #434B5C;\n",
              "      --hover-fill-color: #FFFFFF;\n",
              "      --disabled-bg-color: #3B4455;\n",
              "      --disabled-fill-color: #666;\n",
              "  }\n",
              "\n",
              "  .colab-df-quickchart {\n",
              "    background-color: var(--bg-color);\n",
              "    border: none;\n",
              "    border-radius: 50%;\n",
              "    cursor: pointer;\n",
              "    display: none;\n",
              "    fill: var(--fill-color);\n",
              "    height: 32px;\n",
              "    padding: 0;\n",
              "    width: 32px;\n",
              "  }\n",
              "\n",
              "  .colab-df-quickchart:hover {\n",
              "    background-color: var(--hover-bg-color);\n",
              "    box-shadow: 0 1px 2px rgba(60, 64, 67, 0.3), 0 1px 3px 1px rgba(60, 64, 67, 0.15);\n",
              "    fill: var(--button-hover-fill-color);\n",
              "  }\n",
              "\n",
              "  .colab-df-quickchart-complete:disabled,\n",
              "  .colab-df-quickchart-complete:disabled:hover {\n",
              "    background-color: var(--disabled-bg-color);\n",
              "    fill: var(--disabled-fill-color);\n",
              "    box-shadow: none;\n",
              "  }\n",
              "\n",
              "  .colab-df-spinner {\n",
              "    border: 2px solid var(--fill-color);\n",
              "    border-color: transparent;\n",
              "    border-bottom-color: var(--fill-color);\n",
              "    animation:\n",
              "      spin 1s steps(1) infinite;\n",
              "  }\n",
              "\n",
              "  @keyframes spin {\n",
              "    0% {\n",
              "      border-color: transparent;\n",
              "      border-bottom-color: var(--fill-color);\n",
              "      border-left-color: var(--fill-color);\n",
              "    }\n",
              "    20% {\n",
              "      border-color: transparent;\n",
              "      border-left-color: var(--fill-color);\n",
              "      border-top-color: var(--fill-color);\n",
              "    }\n",
              "    30% {\n",
              "      border-color: transparent;\n",
              "      border-left-color: var(--fill-color);\n",
              "      border-top-color: var(--fill-color);\n",
              "      border-right-color: var(--fill-color);\n",
              "    }\n",
              "    40% {\n",
              "      border-color: transparent;\n",
              "      border-right-color: var(--fill-color);\n",
              "      border-top-color: var(--fill-color);\n",
              "    }\n",
              "    60% {\n",
              "      border-color: transparent;\n",
              "      border-right-color: var(--fill-color);\n",
              "    }\n",
              "    80% {\n",
              "      border-color: transparent;\n",
              "      border-right-color: var(--fill-color);\n",
              "      border-bottom-color: var(--fill-color);\n",
              "    }\n",
              "    90% {\n",
              "      border-color: transparent;\n",
              "      border-bottom-color: var(--fill-color);\n",
              "    }\n",
              "  }\n",
              "</style>\n",
              "\n",
              "  <script>\n",
              "    async function quickchart(key) {\n",
              "      const quickchartButtonEl =\n",
              "        document.querySelector('#' + key + ' button');\n",
              "      quickchartButtonEl.disabled = true;  // To prevent multiple clicks.\n",
              "      quickchartButtonEl.classList.add('colab-df-spinner');\n",
              "      try {\n",
              "        const charts = await google.colab.kernel.invokeFunction(\n",
              "            'suggestCharts', [key], {});\n",
              "      } catch (error) {\n",
              "        console.error('Error during call to suggestCharts:', error);\n",
              "      }\n",
              "      quickchartButtonEl.classList.remove('colab-df-spinner');\n",
              "      quickchartButtonEl.classList.add('colab-df-quickchart-complete');\n",
              "    }\n",
              "    (() => {\n",
              "      let quickchartButtonEl =\n",
              "        document.querySelector('#df-1e783704-ac98-41fe-8cd7-23de7d554c9c button');\n",
              "      quickchartButtonEl.style.display =\n",
              "        google.colab.kernel.accessAllowed ? 'block' : 'none';\n",
              "    })();\n",
              "  </script>\n",
              "</div>\n",
              "\n",
              "    </div>\n",
              "  </div>\n"
            ],
            "application/vnd.google.colaboratory.intrinsic+json": {
              "type": "dataframe"
            }
          },
          "metadata": {},
          "execution_count": 21
        }
      ]
    },
    {
      "cell_type": "markdown",
      "source": [
        "Ekstrasi Fitur"
      ],
      "metadata": {
        "id": "acKBzg9sdu9t"
      }
    },
    {
      "cell_type": "code",
      "source": [
        "# Pisahkan data menjadi fitur (tweet) dan label (sentimen)\n",
        "X = main_df['text_akhir']\n",
        "y = main_df['polarity']\n",
        "\n",
        "# Ekstraksi fitur dengan TF-IDF\n",
        "tfidf = TfidfVectorizer(max_features=200, min_df=17, max_df=0.8 )\n",
        "X_tfidf = tfidf.fit_transform(X)\n",
        "\n",
        "# Konversi hasil ekstraksi fitur menjadi dataframe\n",
        "features_df = pd.DataFrame(X_tfidf.toarray(), columns=tfidf.get_feature_names_out())\n",
        "\n",
        "# Menampilkan hasil ekstraksi fitur\n",
        "features_df\n",
        "\n",
        "# Bagi data menjadi data latih dan data uji\n",
        "X_train, X_test, y_train, y_test = train_test_split(X_tfidf, y, test_size=0.6, random_state=60)"
      ],
      "metadata": {
        "id": "ks2XDzCtdwwY"
      },
      "execution_count": 26,
      "outputs": []
    },
    {
      "cell_type": "code",
      "source": [],
      "metadata": {
        "id": "0MH_YNCR3RIh"
      },
      "execution_count": null,
      "outputs": []
    },
    {
      "cell_type": "markdown",
      "source": [
        "Pelatihan: naive_bayes,    Ekstraksi Fitur: TF-IDF,    Pembagian Data: 60/40"
      ],
      "metadata": {
        "id": "ScL9TzViqW7Q"
      }
    },
    {
      "cell_type": "code",
      "source": [
        "# Membuat objek model Naive Bayes (Bernoulli Naive Bayes)\n",
        "naive_bayes = BernoulliNB()\n",
        "\n",
        "# Melatih model Naive Bayes pada data pelatihan\n",
        "naive_bayes.fit(X_train.toarray(), y_train)\n",
        "\n",
        "# Prediksi sentimen pada data pelatihan dan data uji\n",
        "y_pred_train_nb = naive_bayes.predict(X_train.toarray())\n",
        "y_pred_test_nb = naive_bayes.predict(X_test.toarray())\n",
        "\n",
        "# Evaluasi akurasi model Naive Bayes\n",
        "accuracy_train_nb = accuracy_score(y_pred_train_nb, y_train)\n",
        "accuracy_test_nb = accuracy_score(y_pred_test_nb, y_test)\n",
        "\n",
        "# Menampilkan akurasi\n",
        "print('Naive Bayes - accuracy_train:', accuracy_train_nb)\n",
        "print('Naive Bayes - accuracy_test:', accuracy_test_nb)"
      ],
      "metadata": {
        "colab": {
          "base_uri": "https://localhost:8080/"
        },
        "id": "dy25352nnE02",
        "outputId": "8424daeb-fe32-4246-a938-c5cb6e321919"
      },
      "execution_count": 27,
      "outputs": [
        {
          "output_type": "stream",
          "name": "stdout",
          "text": [
            "Naive Bayes - accuracy_train: 0.8501440329218107\n",
            "Naive Bayes - accuracy_test: 0.8501920438957477\n"
          ]
        }
      ]
    },
    {
      "cell_type": "markdown",
      "source": [
        "Pelatihan: Logistic_Regression,    Ekstraksi Fitur: TF-IDF,    Pembagian Data: 60/40\n"
      ],
      "metadata": {
        "id": "ZiIp-bVxqPNf"
      }
    },
    {
      "cell_type": "code",
      "source": [
        "# Membuat objek model Logistic_Regression\n",
        "Logistic_Regression = LogisticRegression()\n",
        "\n",
        "# Melatih model Logistic_Regression pada data pelatihan\n",
        "Logistic_Regression.fit(X_train.toarray(), y_train)\n",
        "\n",
        "# Prediksi sentimen pada data pelatihan dan data uji\n",
        "y_pred_train_nb = Logistic_Regression.predict(X_train.toarray())\n",
        "y_pred_test_nb = Logistic_Regression.predict(X_test.toarray())\n",
        "\n",
        "# Evaluasi akurasi model Logistic_Regression\n",
        "accuracy_train_nb = accuracy_score(y_pred_train_nb, y_train)\n",
        "accuracy_test_nb = accuracy_score(y_pred_test_nb, y_test)\n",
        "\n",
        "# Menampilkan akurasi\n",
        "print('Logistic_Regression - accuracy_train:', accuracy_train_nb)\n",
        "print('Logistic_Regression - accuracy_test:', accuracy_test_nb)"
      ],
      "metadata": {
        "colab": {
          "base_uri": "https://localhost:8080/"
        },
        "id": "Edbi255shtqN",
        "outputId": "66bd567b-7a2e-4703-e0d3-d6760ea03d75"
      },
      "execution_count": 28,
      "outputs": [
        {
          "output_type": "stream",
          "name": "stdout",
          "text": [
            "Logistic_Regression - accuracy_train: 0.8853497942386831\n",
            "Logistic_Regression - accuracy_test: 0.8833744855967078\n"
          ]
        }
      ]
    },
    {
      "cell_type": "markdown",
      "source": [
        "Pelatihan: RandomForest,    Ekstraksi Fitur: TF-IDF,    Pembagian Data: 60/40"
      ],
      "metadata": {
        "id": "hFKmruueqMtB"
      }
    },
    {
      "cell_type": "code",
      "source": [
        "# Membuat objek model Random Forest\n",
        "random_forest = RandomForestClassifier()\n",
        "\n",
        "# Melatih model Random Forest pada data pelatihan\n",
        "random_forest.fit(X_train.toarray(), y_train)\n",
        "\n",
        "# Prediksi sentimen pada data pelatihan dan data uji\n",
        "y_pred_train_rf = random_forest.predict(X_train.toarray())\n",
        "y_pred_test_rf = random_forest.predict(X_test.toarray())\n",
        "\n",
        "# Evaluasi akurasi model Random Forest\n",
        "accuracy_train_rf = accuracy_score(y_pred_train_rf, y_train)\n",
        "accuracy_test_rf = accuracy_score(y_pred_test_rf, y_test)\n",
        "\n",
        "# Menampilkan akurasi\n",
        "print('Random Forest - accuracy_train:', accuracy_train_rf)\n",
        "print('Random Forest - accuracy_test:', accuracy_test_rf)"
      ],
      "metadata": {
        "colab": {
          "base_uri": "https://localhost:8080/"
        },
        "id": "9L-AkeyqpLds",
        "outputId": "55d3e78a-0102-47bf-e7b8-13f2422db9d9"
      },
      "execution_count": 29,
      "outputs": [
        {
          "output_type": "stream",
          "name": "stdout",
          "text": [
            "Random Forest - accuracy_train: 0.9964814814814815\n",
            "Random Forest - accuracy_test: 0.8655144032921811\n"
          ]
        }
      ]
    },
    {
      "cell_type": "code",
      "source": [
        "# Bagi data menjadi data latih dan data uji\n",
        "X_train, X_test, y_train, y_test = train_test_split(X_tfidf, y, test_size=0.8, random_state=20)"
      ],
      "metadata": {
        "id": "Z8OPGXp3pooW"
      },
      "execution_count": 30,
      "outputs": []
    },
    {
      "cell_type": "markdown",
      "source": [
        "Pelatihan: RandomForest,    Ekstraksi Fitur: TF-IDF,    Pembagian Data: 80/20"
      ],
      "metadata": {
        "id": "6R4E5zCXqCkh"
      }
    },
    {
      "cell_type": "code",
      "source": [
        "# Membuat objek model Random Forest\n",
        "random_forest = RandomForestClassifier()\n",
        "\n",
        "# Melatih model Random Forest pada data pelatihan\n",
        "random_forest.fit(X_train.toarray(), y_train)\n",
        "\n",
        "# Prediksi sentimen pada data pelatihan dan data uji\n",
        "y_pred_train_rf = random_forest.predict(X_train.toarray())\n",
        "y_pred_test_rf = random_forest.predict(X_test.toarray())\n",
        "\n",
        "# Evaluasi akurasi model Random Forest\n",
        "accuracy_train_rf = accuracy_score(y_pred_train_rf, y_train)\n",
        "accuracy_test_rf = accuracy_score(y_pred_test_rf, y_test)\n",
        "\n",
        "# Menampilkan akurasi\n",
        "print('Random Forest - accuracy_train:', accuracy_train_rf)\n",
        "print('Random Forest - accuracy_test:', accuracy_test_rf)"
      ],
      "metadata": {
        "colab": {
          "base_uri": "https://localhost:8080/"
        },
        "id": "KqOUTpNypzOx",
        "outputId": "3c263480-644c-4290-d5d9-70e4877042e1"
      },
      "execution_count": 31,
      "outputs": [
        {
          "output_type": "stream",
          "name": "stdout",
          "text": [
            "Random Forest - accuracy_train: 0.9976543209876543\n",
            "Random Forest - accuracy_test: 0.8603395061728395\n"
          ]
        }
      ]
    },
    {
      "cell_type": "markdown",
      "source": [
        "Pelatihan: Gradient Boosting Classifier,    Ekstraksi Fitur: TF-IDF,    Pembagian Data: 80/20"
      ],
      "metadata": {
        "id": "YwAsosiTwKBy"
      }
    },
    {
      "cell_type": "code",
      "source": [
        "# Membuat objek model GradientBoosting\n",
        "GBC = GradientBoostingClassifier()\n",
        "\n",
        "# Melatih model GradientBoosting pada data pelatihan\n",
        "GBC.fit(X_train.toarray(), y_train)\n",
        "\n",
        "# Prediksi sentimen pada data pelatihan dan data uji\n",
        "y_pred_train_rf = GBC.predict(X_train.toarray())\n",
        "y_pred_test_rf = GBC.predict(X_test.toarray())\n",
        "\n",
        "# Evaluasi akurasi model Random Forest\n",
        "accuracy_train_rf = accuracy_score(y_pred_train_rf, y_train)\n",
        "accuracy_test_rf = accuracy_score(y_pred_test_rf, y_test)\n",
        "\n",
        "# Menampilkan akurasi\n",
        "print('GradientBoostingClassifier - accuracy_train:', accuracy_train_rf)\n",
        "print('GradientBoostingClassifier - accuracy_test:', accuracy_test_rf)"
      ],
      "metadata": {
        "colab": {
          "base_uri": "https://localhost:8080/"
        },
        "id": "QJh0J2tQrE-b",
        "outputId": "5d9b085e-5837-4ab6-fac2-bf2776da309b"
      },
      "execution_count": 32,
      "outputs": [
        {
          "output_type": "stream",
          "name": "stdout",
          "text": [
            "GradientBoostingClassifier - accuracy_train: 0.8869135802469136\n",
            "GradientBoostingClassifier - accuracy_test: 0.8642181069958847\n"
          ]
        }
      ]
    },
    {
      "cell_type": "code",
      "source": [
        " # Import train_test_split from sklearn.model_selection\n",
        "\n",
        "\n",
        "y = main_df['polarity']\n",
        "\n",
        "# 1. Prepare your data\n",
        "sentences = main_df['text_stopword'].tolist()  # Assuming 'text_stopword' column contains preprocessed text\n",
        "\n",
        "# 2. Train Word2Vec model (if you don't have a pre-trained one)\n",
        "model = gensim.models.Word2Vec(sentences, vector_size=100, window=5, min_count=5, workers=4)\n",
        "# Adjust parameters as needed\n",
        "\n",
        "# 3. Function to extract features for a document\n",
        "def document_vector(doc, model):\n",
        "    \"\"\"Calculates document vector by averaging word vectors.\"\"\"\n",
        "    doc_vec = np.zeros((model.vector_size,))\n",
        "    word_count = 0\n",
        "    for word in doc:\n",
        "        if word in model.wv:\n",
        "            doc_vec += model.wv[word]\n",
        "            word_count += 1\n",
        "    if word_count != 0:\n",
        "        doc_vec /= word_count\n",
        "    return doc_vec\n",
        "\n",
        "# 4. Apply to your data\n",
        "X_word2vec = [document_vector(doc, model) for doc in sentences]\n",
        "X_word2vec = np.array(X_word2vec)\n",
        "\n",
        "# Now you have X_word2vec as your feature matrix\n",
        "\n",
        "# Split data\n",
        "X_train, X_test, y_train, y_test = train_test_split(X_word2vec, y, test_size=0.8, random_state=42)\n"
      ],
      "metadata": {
        "id": "ZbZG7J-CDMQo"
      },
      "execution_count": 33,
      "outputs": []
    },
    {
      "cell_type": "markdown",
      "source": [
        "Pelatihan: Random Forest, Ekstraksi Fitur: Word2Vec, Pembagian Data: 80/20"
      ],
      "metadata": {
        "id": "cHl1CQKp868M"
      }
    },
    {
      "cell_type": "code",
      "source": [
        "# Membuat objek model Random Forest\n",
        "random_forest = RandomForestClassifier()\n",
        "\n",
        "# Melatih model Random Forest pada data pelatihan\n",
        "random_forest.fit(X_train, y_train)\n",
        "\n",
        "# Prediksi sentimen pada data pelatihan dan data uji\n",
        "y_pred_train_rf = random_forest.predict(X_train)\n",
        "y_pred_test_rf = random_forest.predict(X_test)\n",
        "\n",
        "# Evaluasi akurasi model Random Forest\n",
        "accuracy_train_rf = accuracy_score(y_pred_train_rf, y_train)\n",
        "accuracy_test_rf = accuracy_score(y_pred_test_rf, y_test)\n",
        "\n",
        "# Menampilkan akurasi\n",
        "print('Random Forest - accuracy_train:', accuracy_train_rf)\n",
        "print('Random Forest - accuracy_test:', accuracy_test_rf)"
      ],
      "metadata": {
        "colab": {
          "base_uri": "https://localhost:8080/"
        },
        "id": "qSjyj2B9Dbbv",
        "outputId": "939192ce-00ae-42b0-eed5-d55b122fe47e"
      },
      "execution_count": 34,
      "outputs": [
        {
          "output_type": "stream",
          "name": "stdout",
          "text": [
            "Random Forest - accuracy_train: 1.0\n",
            "Random Forest - accuracy_test: 0.8567592592592592\n"
          ]
        }
      ]
    },
    {
      "cell_type": "markdown",
      "source": [
        "Pelatihan: MLP Classifier, Ekstraksi Fitur: Word2Vec, Pembagian Data: 80/20"
      ],
      "metadata": {
        "id": "pERbCiUf9OnF"
      }
    },
    {
      "cell_type": "code",
      "source": [
        "# Membuat objek model MLP_Classifier\n",
        "MLP_Classifier = MLPClassifier()\n",
        "\n",
        "# Melatih model MLP_Classifier pada data pelatihan\n",
        "MLP_Classifier.fit(X_train, y_train)\n",
        "\n",
        "# Prediksi sentimen pada data pelatihan dan data uji\n",
        "y_pred_train_rf = MLP_Classifier.predict(X_train)\n",
        "y_pred_test_rf = MLP_Classifier.predict(X_test)\n",
        "\n",
        "# Evaluasi akurasi model MLP_Classifier\n",
        "accuracy_train_rf = accuracy_score(y_pred_train_rf, y_train)\n",
        "accuracy_test_rf = accuracy_score(y_pred_test_rf, y_test)\n",
        "\n",
        "# Menampilkan akurasi\n",
        "print('MLP_Classifier - accuracy_train:', accuracy_train_rf)\n",
        "print('MLP_Classifier - accuracy_test:', accuracy_test_rf)"
      ],
      "metadata": {
        "colab": {
          "base_uri": "https://localhost:8080/"
        },
        "id": "yRsKuvgSeD7_",
        "outputId": "c5cb7faa-94f0-4d0d-8f24-97233d33a95e"
      },
      "execution_count": 35,
      "outputs": [
        {
          "output_type": "stream",
          "name": "stderr",
          "text": [
            "/usr/local/lib/python3.11/dist-packages/sklearn/neural_network/_multilayer_perceptron.py:691: ConvergenceWarning: Stochastic Optimizer: Maximum iterations (200) reached and the optimization hasn't converged yet.\n",
            "  warnings.warn(\n"
          ]
        },
        {
          "output_type": "stream",
          "name": "stdout",
          "text": [
            "MLP_Classifier - accuracy_train: 0.9555144032921811\n",
            "MLP_Classifier - accuracy_test: 0.8500823045267489\n"
          ]
        }
      ]
    },
    {
      "cell_type": "markdown",
      "source": [
        "Pelatihan: Linear SVC, Ekstraksi Fitur: Word2Vec, Pembagian Data: 80/20"
      ],
      "metadata": {
        "id": "YDfUwgAw9c-r"
      }
    },
    {
      "cell_type": "code",
      "source": [
        "# Membuat objek model Linear_SVC\n",
        "Linear_SVC = LinearSVC()\n",
        "\n",
        "# Melatih model Linear_SVC pada data pelatihan\n",
        "Linear_SVC.fit(X_train, y_train)\n",
        "\n",
        "# Prediksi sentimen pada data pelatihan dan data uji\n",
        "y_pred_train_rf = Linear_SVC.predict(X_train)\n",
        "y_pred_test_rf = Linear_SVC.predict(X_test)\n",
        "\n",
        "# Evaluasi akurasi model Linear_SVC\n",
        "accuracy_train_rf = accuracy_score(y_pred_train_rf, y_train)\n",
        "accuracy_test_rf = accuracy_score(y_pred_test_rf, y_test)\n",
        "\n",
        "# Menampilkan akurasi\n",
        "print('Linear_SVC - accuracy_train:', accuracy_train_rf)\n",
        "print('Linear_SVC - accuracy_test:', accuracy_test_rf)"
      ],
      "metadata": {
        "colab": {
          "base_uri": "https://localhost:8080/"
        },
        "id": "Vyrx6m5401bq",
        "outputId": "9c989a7b-36dc-4c57-d3bb-1b9b2086bf47"
      },
      "execution_count": 36,
      "outputs": [
        {
          "output_type": "stream",
          "name": "stdout",
          "text": [
            "Linear_SVC - accuracy_train: 0.8579835390946502\n",
            "Linear_SVC - accuracy_test: 0.8556172839506173\n"
          ]
        }
      ]
    }
  ]
}